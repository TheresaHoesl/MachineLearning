{
 "cells": [
  {
   "cell_type": "code",
   "execution_count": 94,
   "id": "e6df2135",
   "metadata": {},
   "outputs": [],
   "source": [
    "# import\n",
    "import numpy as np\n",
    "import random, math\n",
    "from scipy.optimize import minimize\n",
    "import matplotlib.pyplot as plt\n",
    "from numpy.linalg import norm"
   ]
  },
  {
   "cell_type": "code",
   "execution_count": 95,
   "id": "c569c1f4",
   "metadata": {},
   "outputs": [],
   "source": [
    "# create data\n",
    "classA=np.concatenate((np.random.randn(10,2)*0.2+[1.5,0.5], np.random.randn(10,2)*0.2+[-1.5,0.5]))\n",
    "classB=np.random.randn(20,2)*0.2+[0.0,-0.5]\n",
    "\n",
    "inputs=np.concatenate((classA,classB))\n",
    "targets=np.concatenate((np.ones(classA.shape[0]),-np.ones(classB.shape[0])))\n",
    "\n",
    "N = inputs.shape[0] # Number of samples\n",
    "\n",
    "# shuffle them\n",
    "permute = list(range(N))\n",
    "random.shuffle(permute)\n",
    "inputs = inputs[permute,:]\n",
    "targets = targets[permute]"
   ]
  },
  {
   "cell_type": "code",
   "execution_count": 130,
   "id": "fd1ae106",
   "metadata": {},
   "outputs": [],
   "source": [
    "def kernel_lin(x, y):\n",
    "   z = np.dot(x.T, y)\n",
    "   return z\n",
    "\n",
    "def kernel_poly(x, y, p):\n",
    "    z = (np.dot(x.T, y) + 1)**p\n",
    "    return z\n",
    "    \n",
    "def kernel_rbf(x, y, sigma):\n",
    "    norm_l2 = norm((x-y.T))\n",
    "    z = np.exp(-((norm_l2**2)/(2*sigma**2)))\n",
    "    return z\n",
    "\n",
    "def zerofun(a):\n",
    "    z = np.dot(a, targets)\n",
    "    return z\n",
    "\n",
    "# define stuff\n",
    "C = 50       # punishment for slack\n",
    "start = np.zeros(N)\n",
    "B = [(0, C) for b in range(N)]\n",
    "p = 1 # parameter for polynomial Kernel\n",
    "sigma = 1 # parameter for rgb Kernel\n",
    "\n",
    "# calc P matrix for objective \n",
    "#K = np.array([[kernel_lin(i, j) for i in inputs] for j in inputs])\n",
    "K = np.array([[kernel_poly(i, j, p) for i in inputs] for j in inputs])\n",
    "#K = np.array([[kernel_rbf(i, j, sigma) for i in inputs] for j in inputs])\n",
    "T = np.array([[i*j for i in targets] for j in targets])\n",
    "P = K*T\n",
    "        \n",
    "\n",
    "def objective(a):\n",
    "    A = [[a_i*a_j for a_i in a] for a_j in a]\n",
    "    z = 0.5*np.sum(A*P) - np.sum(a)\n",
    "    return z\n",
    "\n",
    "\n",
    "ret = minimize(objective, start, bounds=B, constraints={'type': 'eq', 'fun': zerofun})\n",
    "all_alpha = ret['x']\n",
    "\n",
    "\n",
    "# extract non-zero alphas, x_i & t_i\n",
    "alpha = []\n",
    "for i in range(len(all_alpha)):\n",
    "    if all_alpha[i] > 10**(-5):\n",
    "        alpha.append((all_alpha[i], inputs[i], targets[i]))\n",
    "\n",
    "# find alpha for b calc\n",
    "i = 0\n",
    "while(alpha[i][0] <= 0 or alpha[i][0] > C):\n",
    "    i = i + 1\n",
    "alpha_b = alpha[i]\n",
    "\n",
    "# find threshold b\n",
    "X = all_alpha*targets\n",
    "#b = np.sum(X*kernel_lin(alpha_b[1], inputs.T)) - alpha_b[2]\n",
    "b = np.sum(X*kernel_poly(alpha_b[1], inputs.T, p)) - alpha_b[2]\n",
    "#b = np.sum(all_alpha*targets*np.array([kernel_rbf(alpha_b[1], i,sigma) for i in inputs])) - alpha_b[2]\n",
    "\n",
    "# indictor function\n",
    "def indicator(x, y):\n",
    "    point = np.array([x, y])\n",
    "    #return np.sum(X*kernel_lin(point, inputs.T)) - b\n",
    "    return np.sum(X*kernel_poly(point, inputs.T,p)) - b\n",
    "    #return np.sum(all_alpha*targets*np.array([kernel_rbf(point, i, sigma) for i in inputs])) - b\n",
    "\n"
   ]
  },
  {
   "cell_type": "code",
   "execution_count": 131,
   "id": "f69d63df",
   "metadata": {},
   "outputs": [
    {
     "data": {
      "image/png": "[encoded data removed]",
      "text/plain": [
       "<Figure size 640x480 with 1 Axes>"
      ]
     },
     "metadata": {},
     "output_type": "display_data"
    }
   ],
   "source": [
    "xgrid = np.linspace(-5,5)\n",
    "ygrid = np.linspace(-4,4)\n",
    "grid = np.array([[indicator(x,y) for x in xgrid] for y in ygrid])\n",
    "\n",
    "# create plot\n",
    "plt.plot([p[0]for p in classA], [p[1]for p in classA],'b.')\n",
    "plt.plot([p[0]for p in classB], [p[1]for p in classB],'r.')\n",
    "plt.contour(xgrid,ygrid,grid,(-1.0,0.0,1.0),colors=('red','black','blue'),linewidths=(1,1,1))\n",
    "plt.plot([i[1][0] for i in alpha], [i[1][1] for i in alpha], 'g.', markersize=10)\n",
    "plt.axis('equal') # Force same scale on both axes\n",
    "plt.savefig('svmplot.pdf') # Save a copy in a file\n",
    "plt.show() # Show the plot on the screen\n",
    "\n"
   ]
  }
 ],
 "metadata": {
  "kernelspec": {
   "display_name": "Python 3 (ipykernel)",
   "language": "python",
   "name": "python3"
  },
  "language_info": {
   "codemirror_mode": {
    "name": "ipython",
    "version": 3
   },
   "file_extension": ".py",
   "mimetype": "text/x-python",
   "name": "python",
   "nbconvert_exporter": "python",
   "pygments_lexer": "ipython3",
   "version": "3.11.5"
  }
 },
 "nbformat": 4,
 "nbformat_minor": 5
}
